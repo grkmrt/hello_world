{
  "nbformat": 4,
  "nbformat_minor": 0,
  "metadata": {
    "colab": {
      "name": "KosulluOlasılık.ipynb",
      "provenance": [],
      "collapsed_sections": [],
      "authorship_tag": "ABX9TyPvdExi+29s/Y6eiOQRqtoP",
      "include_colab_link": true
    },
    "kernelspec": {
      "name": "python3",
      "display_name": "Python 3"
    },
    "language_info": {
      "name": "python"
    }
  },
  "cells": [
    {
      "cell_type": "markdown",
      "metadata": {
        "id": "view-in-github",
        "colab_type": "text"
      },
      "source": [
        "<a href=\"https://colab.research.google.com/github/grkmrt/hello_world/blob/main/KosulluOlas%C4%B1l%C4%B1k.ipynb\" target=\"_parent\"><img src=\"https://colab.research.google.com/assets/colab-badge.svg\" alt=\"Open In Colab\"/></a>"
      ]
    },
    {
      "cell_type": "markdown",
      "metadata": {
        "id": "ZUcKekQU_GtJ"
      },
      "source": [
        "Koşullu Olasılık \n",
        "\n",
        "**Soru:**\n",
        "\n",
        "2 çocuklu bir ailede çocuklardan en az birinin kız olması halinde ikisinin de kız olma olasılığı nedir?\n",
        "\n",
        "**Cevap:**\n",
        "\n",
        "Örnek Uzay: {e, e}, {e, k}, {k, e}, {k, k}\n",
        "\n",
        "**A olayı:** Çocuklardan en az birinin kız olması yani {e, k}, {k, e}, {k, k} durumları\n",
        "P(A = En az bir kız olma olasılığı) = 3 / 4\n",
        "\n",
        "**B olayı:** Çocukların ikisinin de kız olması yani {k, k} durumu = A ∩ B\n",
        "P(B = Çocukların ikisinin de kız olma olasılığı) = 1 / 4 = P(A ∩ B)\n",
        "\n",
        "B | A: Çocuklardan en az birinin kız olduğu bilindiğine göre ikisinin de kız olma durumu\n",
        "P(B | A) =P(A ∩ B) / P(A) = (1 / 4) / (3 / 4) = 1 / 3"
      ]
    },
    {
      "cell_type": "code",
      "metadata": {
        "id": "RuFe-A15-98o"
      },
      "source": [
        "import random\n",
        "cocuklar = 2\n",
        "ornek_uzay = 2**cocuklar\n",
        "\n",
        "tek_kız=0\n",
        "iki_kız=0\n",
        "ilk_cocuk = [\"erkek\", \"kız\"]\n",
        "son_cocuk = [\"erkek\", \"kız\"]\n",
        "\n",
        "for i in ilk_cocuk:\n",
        "  for j in son_cocuk:\n",
        "    if i == \"kız\" or j == \"kız\":\n",
        "            tek_kız += 1\n",
        "    if i == \"kız\" and j == \"kız\":\n",
        "            iki_kız += 1"
      ],
      "execution_count": 32,
      "outputs": []
    },
    {
      "cell_type": "code",
      "metadata": {
        "colab": {
          "base_uri": "https://localhost:8080/"
        },
        "id": "5BdOaLiLQb4J",
        "outputId": "01579471-009b-47a2-c453-ff264797fe9b"
      },
      "source": [
        "# A olayının olma olasılığı\n",
        "P_A = tek_kız/ornek_uzay\n",
        "\n",
        "# B olayının olma olasılığı\n",
        "P_B = iki_kız/ornek_uzay\n",
        "\n",
        "# B | A\n",
        "P_B_A = P_B/P_A\n",
        "\n",
        "print(\"Çocuklardan en az birinin kız olduğu bilindiğine göre ikisinin de kız olma olasılığı = \", P_B_A )"
      ],
      "execution_count": 44,
      "outputs": [
        {
          "output_type": "stream",
          "text": [
            "Çocuklardan en az birinin kız olduğu bilindiğine göre ikisinin de kız olma olasılığı =  0.3333333333333333\n"
          ],
          "name": "stdout"
        }
      ]
    }
  ]
}