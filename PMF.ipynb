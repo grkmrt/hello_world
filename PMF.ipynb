{
  "nbformat": 4,
  "nbformat_minor": 0,
  "metadata": {
    "colab": {
      "name": "PMF.ipynb",
      "provenance": [],
      "collapsed_sections": [],
      "authorship_tag": "ABX9TyPa+yPNzF4Row38nF4oSrBH",
      "include_colab_link": true
    },
    "kernelspec": {
      "name": "python3",
      "display_name": "Python 3"
    },
    "language_info": {
      "name": "python"
    }
  },
  "cells": [
    {
      "cell_type": "markdown",
      "metadata": {
        "id": "view-in-github",
        "colab_type": "text"
      },
      "source": [
        "<a href=\"https://colab.research.google.com/github/grkmrt/hello_world/blob/main/PMF.ipynb\" target=\"_parent\"><img src=\"https://colab.research.google.com/assets/colab-badge.svg\" alt=\"Open In Colab\"/></a>"
      ]
    },
    {
      "cell_type": "markdown",
      "metadata": {
        "id": "p1txjZUog3V8"
      },
      "source": [
        "PMF \n",
        "\n",
        "**Soru:**\n",
        "\n",
        "1 zar 3 kere atılıyor. 3 gelme durumunun PMF ini bul\n",
        "\n",
        "**Cevap:**\n",
        "\n",
        "3 Gelme durumları={0,1,2,3}\n",
        "\n",
        "Örnek Uzay = 6 * 6 * 6  =  216 durum\n",
        "\n",
        "PMF(x:0)=5/6 * 5/6 * 5/6  =  125/216\n",
        "\n",
        "PMF(x:1)=3*(1/6 * 5/6 * 5/6)  =  75/216\n",
        "\n",
        "PMF(x:2)=3*(1/6 * 1/6 * 5/6)  =  15/216\n",
        "\n",
        "PMF(x:3)=1/6 * 1/6 * 1/6  =  1/216\n"
      ]
    },
    {
      "cell_type": "code",
      "metadata": {
        "colab": {
          "base_uri": "https://localhost:8080/",
          "height": 295
        },
        "id": "Rkd3hd_mpiwf",
        "outputId": "b9f2d0f5-5cfc-476d-cf01-d8713e9c3902"
      },
      "source": [
        "a = []\n",
        "zar = [1,2,3,4,5,6]\n",
        "b=0\n",
        "c=0\n",
        "d=0\n",
        "e=0\n",
        "\n",
        "for i in zar:\n",
        "  for j in zar:\n",
        "    for k in zar:\n",
        "      a.append([i,j,k])\n",
        "      if i !=3 and j != 3 and k != 3:\n",
        "        b +=1\n",
        "\n",
        "      if i ==3 and j != 3 and k != 3:\n",
        "        c +=1\n",
        "      if i !=3 and j == 3 and k != 3:\n",
        "        c +=1\n",
        "      if i !=3 and j != 3 and k == 3:\n",
        "        c +=1\n",
        "\n",
        "      if i ==3 and j == 3 and k != 3:\n",
        "        d +=1\n",
        "      if i ==3 and j != 3 and k == 3:\n",
        "        d +=1\n",
        "      if i !=3 and j == 3 and k == 3:\n",
        "        d +=1\n",
        "\n",
        "      if i ==3 and j == 3 and k == 3:\n",
        "        e +=1\n",
        "\n",
        "\n",
        "ornek_uzay=len(a)\n",
        "x_0= b/ornek_uzay\n",
        "x_1= c/ornek_uzay\n",
        "x_2= d/ornek_uzay\n",
        "x_3= e/ornek_uzay\n",
        "x=[\"0\",\"1\",\"2\",\"3\"]\n",
        "Fx=[x_0,x_1,x_2,x_3]\n",
        "\n",
        "import matplotlib.pyplot as plt\n",
        "\n",
        "plt.bar(x, Fx, color='b')\n",
        "plt.plot()\n",
        "plt.xlabel(\"X\")\n",
        "plt.ylabel(\"Fx(X)\")\n",
        "plt.title(\"PMF\")\n",
        "plt.show()"
      ],
      "execution_count": 58,
      "outputs": [
        {
          "output_type": "display_data",
          "data": {
            "image/png": "[encoded data removed]",
            "text/plain": [
              "<Figure size 432x288 with 1 Axes>"
            ]
          },
          "metadata": {
            "tags": [],
            "needs_background": "light"
          }
        }
      ]
    }
  ]
}